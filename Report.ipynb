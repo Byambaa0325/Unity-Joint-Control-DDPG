{
 "cells": [
  {
   "cell_type": "markdown",
   "metadata": {},
   "source": [
    "# Navigation using Reinforcement Learning\n",
    "\n",
    "---\n",
    "\n",
    "This project creates an agent to navigate (and collect bananas!) in a large, square world.\n",
    "\n",
    "### 1. Start the Environment\n",
    "\n",
    "**Unity Machine Learning Agents (ML-Agents)** is an open-source Unity plugin that enables games and simulations to serve as environments for training intelligent agents. It has myriads of environments up for a challenge, and in which the environment we will be solving during this project is **Reacher**.\n",
    "![image.png](https://video.udacity-data.com/topher/2018/June/5b1ea778_reacher/reacher.gif)"
   ]
  },
  {
   "cell_type": "markdown",
   "metadata": {},
   "source": [
    "In this environment, a double-jointed arm can move to target locations. A reward of +0.1 is provided for each step that the agent's hand is in the goal location. Thus, the goal of your agent is to maintain its position at the target location for as many time steps as possible."
   ]
  },
  {
   "cell_type": "markdown",
   "metadata": {},
   "source": [
    "Let's start by installing all the required dependencies:"
   ]
  },
  {
   "cell_type": "code",
   "execution_count": 3,
   "metadata": {},
   "outputs": [
    {
     "name": "stdout",
     "output_type": "stream",
     "text": [
      "\u001b[31mtensorflow 1.7.1 has requirement numpy>=1.13.3, but you'll have numpy 1.12.1 which is incompatible.\u001b[0m\r\n",
      "\u001b[31mipython 6.5.0 has requirement prompt-toolkit<2.0.0,>=1.0.15, but you'll have prompt-toolkit 3.0.5 which is incompatible.\u001b[0m\r\n"
     ]
    }
   ],
   "source": [
    "!pip -q install ./python"
   ]
  },
  {
   "cell_type": "markdown",
   "metadata": {},
   "source": [
    "The environment is provided and can be accessed as below once installed"
   ]
  },
  {
   "cell_type": "code",
   "execution_count": 2,
   "metadata": {},
   "outputs": [
    {
     "name": "stderr",
     "output_type": "stream",
     "text": [
      "INFO:unityagents:\n",
      "'Academy' started successfully!\n",
      "Unity Academy name: Academy\n",
      "        Number of Brains: 1\n",
      "        Number of External Brains : 1\n",
      "        Lesson number : 0\n",
      "        Reset Parameters :\n",
      "\t\tgoal_speed -> 1.0\n",
      "\t\tgoal_size -> 5.0\n",
      "Unity brain name: ReacherBrain\n",
      "        Number of Visual Observations (per agent): 0\n",
      "        Vector Observation space type: continuous\n",
      "        Vector Observation space size (per agent): 33\n",
      "        Number of stacked Vector Observation: 1\n",
      "        Vector Action space type: continuous\n",
      "        Vector Action space size (per agent): 4\n",
      "        Vector Action descriptions: , , , \n"
     ]
    }
   ],
   "source": [
    "#export\n",
    "from unityagents import UnityEnvironment\n",
    "import numpy as np\n",
    "\n",
    "# select this option to load version 1 (with a single agent) of the environment\n",
    "#env = UnityEnvironment(file_name='/data/Reacher_One_Linux_NoVis/Reacher_One_Linux_NoVis.x86_64')\n",
    "\n",
    "# select this option to load version 2 (with 20 agents) of the environment\n",
    "env = UnityEnvironment(file_name='/data/Reacher_Linux_NoVis/Reacher.x86_64')"
   ]
  },
  {
   "cell_type": "markdown",
   "metadata": {},
   "source": [
    "The observation space consists of 33 variables corresponding to position, rotation, velocity, and angular velocities of the arm. Each action is a vector with four numbers, corresponding to torque applicable to two joints. Every entry in the action vector should be a number between -1 and 1.\n",
    "\n",
    "Environments contain **_brains_** which are responsible for deciding the actions of their associated agents, representing the agent. Here we check for the first brain available, and set it as the default brain we will be controlling from Python."
   ]
  },
  {
   "cell_type": "code",
   "execution_count": 3,
   "metadata": {},
   "outputs": [],
   "source": [
    "#export\n",
    "# get the default brain\n",
    "brain_name = env.brain_names[0]\n",
    "brain = env.brains[brain_name]"
   ]
  },
  {
   "cell_type": "markdown",
   "metadata": {},
   "source": [
    "The environment is considered <b>solved</b>, when the average (over 100 episodes) of those average scores is at least +30."
   ]
  },
  {
   "cell_type": "markdown",
   "metadata": {},
   "source": [
    "### 2. DDPG Agent Solver\n",
    "\n",
    "The environment is continuous environment which has state space and action space that are both continuous. As such, we would need an agent that can deal with continuous setting. Here **DDPG** algorithm comes to the rescue. Unlike our **DQN** algorithm that is a Q-learning variant which uses deep neural network to approximate the Q-function, **DDPG** also learns policy at the same time as learning Q-function. Therefore, it is a mix between Q-learning and Policy Gradient methods.\n",
    "\n",
    "![image.png](https://spinningup.openai.com/en/latest/_images/math/5811066e89799e65be299ec407846103fcf1f746.svg)\n",
    "\n",
    "The reason for choosing **DDPG** is because it is, in a nutshell, **DQN** for continuous action spaces. If you recall, **DQN** deals with environments with discrete action spaces like pressing buttons while **DDPG** can tell how hard to press that button. As same as **DQN**, it uses: \n",
    "\n",
    "- Replay Buffers\n",
    "- Target Networks\n",
    "\n",
    "The main addition is using calculating the max over actions in the target:\n",
    "![equationDDPG.png](https://spinningup.openai.com/en/latest/_images/math/4421120861d55302d76c7e2fd7cc5b2da7aea320.svg)\n",
    "Computing the maximum over actions in the target is a challenge in continuous action spaces. DDPG deals with this by using a target policy network to compute an action which approximately maximizes the Q network.\n",
    "\n",
    "While I won't go deep down to the details DDPG algorithm, I'll guide you to great resources that does a much better job at explaining it than I would here :)\n",
    "\n",
    "- [The original paper introducing the DDPG](https://arxiv.org/abs/1509.02971)\n",
    "- [DDPG implementation by Spinning Up, OpenAI](https://spinningup.openai.com/en/latest/algorithms/ddpg.html)\n"
   ]
  },
  {
   "cell_type": "markdown",
   "metadata": {},
   "source": [
    "### 3. Implementation Details\n",
    "\n",
    "The **DDPG** agent that we will use to solve the environment will be a modified **DDPG** algorithm.\n",
    "\n",
    "#### Hyperparaments\n",
    "Note that the hyper parameters used for the training was:\n",
    "    - n_episodes = 500\n",
    "        Train for total of 500 episodes until the environment is solved\n",
    "    - max_t = 1000 \n",
    "        Maximum of 1000 timesteps per episode\n",
    "    - start_steps = 10\n",
    "        Randomly sample actions for 10 episodes to encourage exploration at the start of the learning process\n",
    "    - learn_frequency = 20\n",
    "        Learn per 20 timesteps when training.\n",
    "    - learn_count = 10\n",
    "        Learn 10 times at the learning step\n",
    "        \n",
    "#### Neural network inside the agent\n",
    "\n",
    "The **Actor** neural network inside the agent is simple shallow network with 3 linear layers with a batch norm within them.\n",
    "\n",
    "    State value -> \n",
    "    LinearLayer(state size, 400) -> Relu ->\n",
    "    BatchNorm1d(400) -> \n",
    "    LinearLayer(400, 300) -> Relu ->\n",
    "    BatchNorm1d(400) -> \n",
    "    LinearLayer(300, action size) ->\n",
    "    Action values\n",
    "\n",
    "The **Critic** neural network inside the agent is simple shallow network with 3 linear layers with a batch norm within them.\n",
    "    \n",
    "    State value -> \n",
    "    Linear(state_size, 400) -> Relu ->\n",
    "    BatchNorm1d(400) -> \n",
    "    Linear(400+action_size, 300) -> Relu ->\n",
    "    Linear(300, 1) -> \n",
    "    Q-value"
   ]
  },
  {
   "cell_type": "markdown",
   "metadata": {},
   "source": [
    "### 4. Implementation\n",
    "\n",
    "Import necessary packages:"
   ]
  },
  {
   "cell_type": "code",
   "execution_count": 4,
   "metadata": {},
   "outputs": [],
   "source": [
    "#export\n",
    "import torch\n",
    "from collections import deque\n",
    "from ddpg_agent import Agent"
   ]
  },
  {
   "cell_type": "code",
   "execution_count": 5,
   "metadata": {},
   "outputs": [],
   "source": [
    "import matplotlib.pyplot as plt\n",
    "%matplotlib inline"
   ]
  },
  {
   "cell_type": "markdown",
   "metadata": {},
   "source": [
    "Define environment variables:"
   ]
  },
  {
   "cell_type": "code",
   "execution_count": 6,
   "metadata": {},
   "outputs": [],
   "source": [
    "#export\n",
    "env_info = env.reset(train_mode=True)[brain_name]\n",
    "num_agents = len(env_info.agents)\n",
    "action_size = brain.vector_action_space_size\n",
    "states = env_info.vector_observations\n",
    "state_size = states.shape[1]"
   ]
  },
  {
   "cell_type": "markdown",
   "metadata": {},
   "source": [
    "**DDPG** learning algorithm:"
   ]
  },
  {
   "cell_type": "code",
   "execution_count": 7,
   "metadata": {},
   "outputs": [],
   "source": [
    "#export\n",
    "def ddpg(n_episodes=500, max_t=1000, start_steps = 10, learn_frequency = 20, learn_count = 10, random_seed = 1):\n",
    "    \"\"\"Deep Deterministic Policy Gradient (DDPG)\n",
    "    \n",
    "    Params\n",
    "    ======\n",
    "        n_episodes (int)      : maximum number of training episodes\n",
    "        max_t (int)           : maximum number of timesteps per episode\n",
    "        start_steps (int)     : number of starting steps actions are chosen randomly \n",
    "        learn_frequency (int) : frequency of learning per timestep\n",
    "        learn_count (int)     : number of learning steps to do at learning timestep\n",
    "        random_seed (int)     : random seed for agent's weights \n",
    "    \"\"\"\n",
    "        \n",
    "    agent = Agent(state_size=state_size, action_size=action_size, random_seed=random_seed)   #Initialize the Agent\n",
    "    \n",
    "    avg_scores_episode = []                    # list containing scores from each episode\n",
    "    avg_scores_moving = []                     # list containing avg scores from window at each episode\n",
    "    scores_window = deque(maxlen=100)          # last 100 scores                    \n",
    "    \n",
    "    for i_episode in range(1, n_episodes+1):\n",
    "        env_info = env.reset(train_mode=True)[brain_name]       # reset environment\n",
    "        states = env_info.vector_observations                   # get current state for each agent      \n",
    "        scores = np.zeros(num_agents)                           # initialize score for each agent\n",
    "        agent.reset()                                           # reset noise of the agent\n",
    "\n",
    "        for t in range(max_t):\n",
    "            #Randomly sample actions during the starting steps\n",
    "            if i_episode <= start_steps:\n",
    "                actions = np.random.randn(num_agents, action_size) # select an action randomly\n",
    "                actions = np.clip(actions, -1, 1)                  # all actions between -1 and 1\n",
    "            else:\n",
    "                actions = agent.act(states, add_noise=True)     # select an action according to policy (for each agent)\n",
    "            env_info = env.step(actions)[brain_name]            # send actions to environment\n",
    "            next_states = env_info.vector_observations          # get next state (for each agent)\n",
    "            rewards = env_info.rewards                          # get reward (for each agent)\n",
    "            dones = env_info.local_done                         # see if episode has finished (for each agent)\n",
    "            \n",
    "            # for each agent's experience, save it and learn\n",
    "            for state, action, reward, next_state, done in zip(states, actions, rewards, next_states, dones):\n",
    "                if t % learn_frequency == 0: # Learn with frequency\n",
    "                    agent.step(state, action, reward, next_state, done, learn = True, learn_count = learn_count)\n",
    "                else:\n",
    "                    agent.step(state, action, reward, next_state, done, learn = False) #just add, don't learn\n",
    "                    \n",
    "            states = next_states\n",
    "            \n",
    "            scores += rewards                                   # add the rewards from the timestep to the scores\n",
    "            if np.any(dones):                                   # finish episode if any agent has reached a terminal state\n",
    "                break\n",
    "\n",
    "                \n",
    "        scores_window.append(np.mean(scores))            # save the most recent score to scores window\n",
    "        \n",
    "        avg_scores_episode.append(np.mean(scores))       # save the most recent score to avg_scores\n",
    "        avg_scores_moving.append(np.mean(scores_window)) # save the most recent score window average to moving averages\n",
    "\n",
    "        \n",
    "        print('\\rEpisode {}\\tAverage Score: {:.2f}'.format(i_episode, np.mean(scores_window)), end=\"\")\n",
    "        if i_episode % 1 == 0: # Print every episode\n",
    "            print('\\rEpisode {}\\tAverage Score: {:.2f} \\t Current Score: {:.2f}'.format(i_episode, np.mean(scores_window), np.mean(scores)))\n",
    "            \n",
    "        #environment is solved\n",
    "        if np.mean(scores_window)>=30.0:\n",
    "            print('\\nEnvironment solved in {:d} episodes!\\tAverage Score: {:.2f}'.format(i_episode-100, np.mean(scores_window)))\n",
    "            torch.save(agent.actor_local.state_dict(), \"checkpoint_actor.pth\")        #Save actors' weights\n",
    "            torch.save(agent.critic_local.state_dict(), \"checkpoint_critic.pth\")      #Save critics' weights\n",
    "            break\n",
    "            \n",
    "    return avg_scores_episode, avg_scores_moving # Return average score of each episode and moving average at that time"
   ]
  },
  {
   "cell_type": "markdown",
   "metadata": {},
   "source": [
    "Train the agent until it solves the environment."
   ]
  },
  {
   "cell_type": "code",
   "execution_count": 8,
   "metadata": {},
   "outputs": [
    {
     "name": "stdout",
     "output_type": "stream",
     "text": [
      "Episode 1\tAverage Score: 0.04 \t Current Score: 0.04\n",
      "Episode 2\tAverage Score: 0.05 \t Current Score: 0.05\n",
      "Episode 3\tAverage Score: 0.07 \t Current Score: 0.11\n",
      "Episode 4\tAverage Score: 0.08 \t Current Score: 0.13\n",
      "Episode 5\tAverage Score: 0.10 \t Current Score: 0.15\n",
      "Episode 6\tAverage Score: 0.11 \t Current Score: 0.18\n",
      "Episode 7\tAverage Score: 0.11 \t Current Score: 0.12\n",
      "Episode 8\tAverage Score: 0.13 \t Current Score: 0.24\n",
      "Episode 9\tAverage Score: 0.15 \t Current Score: 0.29\n",
      "Episode 10\tAverage Score: 0.14 \t Current Score: 0.09\n",
      "Episode 11\tAverage Score: 0.14 \t Current Score: 0.10\n",
      "Episode 12\tAverage Score: 0.13 \t Current Score: 0.10\n",
      "Episode 13\tAverage Score: 0.13 \t Current Score: 0.14\n",
      "Episode 14\tAverage Score: 0.14 \t Current Score: 0.16\n",
      "Episode 15\tAverage Score: 0.13 \t Current Score: 0.05\n",
      "Episode 16\tAverage Score: 0.13 \t Current Score: 0.12\n",
      "Episode 17\tAverage Score: 0.13 \t Current Score: 0.15\n",
      "Episode 18\tAverage Score: 0.13 \t Current Score: 0.11\n",
      "Episode 19\tAverage Score: 0.13 \t Current Score: 0.05\n",
      "Episode 20\tAverage Score: 0.12 \t Current Score: 0.08\n",
      "Episode 21\tAverage Score: 0.16 \t Current Score: 0.95\n",
      "Episode 22\tAverage Score: 0.19 \t Current Score: 0.86\n",
      "Episode 23\tAverage Score: 0.23 \t Current Score: 1.07\n",
      "Episode 24\tAverage Score: 0.27 \t Current Score: 1.17\n",
      "Episode 25\tAverage Score: 0.32 \t Current Score: 1.48\n",
      "Episode 26\tAverage Score: 0.38 \t Current Score: 1.81\n",
      "Episode 27\tAverage Score: 0.45 \t Current Score: 2.27\n",
      "Episode 28\tAverage Score: 0.52 \t Current Score: 2.50\n",
      "Episode 29\tAverage Score: 0.62 \t Current Score: 3.47\n",
      "Episode 30\tAverage Score: 0.69 \t Current Score: 2.67\n",
      "Episode 31\tAverage Score: 0.81 \t Current Score: 4.26\n",
      "Episode 32\tAverage Score: 0.95 \t Current Score: 5.32\n",
      "Episode 33\tAverage Score: 1.12 \t Current Score: 6.70\n",
      "Episode 34\tAverage Score: 1.29 \t Current Score: 6.98\n",
      "Episode 35\tAverage Score: 1.46 \t Current Score: 7.26\n",
      "Episode 36\tAverage Score: 1.62 \t Current Score: 7.16\n",
      "Episode 37\tAverage Score: 1.83 \t Current Score: 9.36\n",
      "Episode 38\tAverage Score: 2.07 \t Current Score: 10.93\n",
      "Episode 39\tAverage Score: 2.26 \t Current Score: 9.55\n",
      "Episode 40\tAverage Score: 2.47 \t Current Score: 10.69\n",
      "Episode 41\tAverage Score: 2.65 \t Current Score: 9.72\n",
      "Episode 42\tAverage Score: 2.84 \t Current Score: 10.78\n",
      "Episode 43\tAverage Score: 3.07 \t Current Score: 12.37\n",
      "Episode 44\tAverage Score: 3.30 \t Current Score: 13.60\n",
      "Episode 45\tAverage Score: 3.53 \t Current Score: 13.52\n",
      "Episode 46\tAverage Score: 3.78 \t Current Score: 14.74\n",
      "Episode 47\tAverage Score: 4.01 \t Current Score: 14.86\n",
      "Episode 48\tAverage Score: 4.28 \t Current Score: 16.69\n",
      "Episode 49\tAverage Score: 4.53 \t Current Score: 16.86\n",
      "Episode 50\tAverage Score: 4.81 \t Current Score: 18.36\n",
      "Episode 51\tAverage Score: 5.05 \t Current Score: 17.10\n",
      "Episode 52\tAverage Score: 5.34 \t Current Score: 20.27\n",
      "Episode 53\tAverage Score: 5.65 \t Current Score: 21.69\n",
      "Episode 54\tAverage Score: 5.95 \t Current Score: 21.85\n",
      "Episode 55\tAverage Score: 6.26 \t Current Score: 23.20\n",
      "Episode 56\tAverage Score: 6.60 \t Current Score: 25.09\n",
      "Episode 57\tAverage Score: 6.91 \t Current Score: 24.02\n",
      "Episode 58\tAverage Score: 7.24 \t Current Score: 26.53\n",
      "Episode 59\tAverage Score: 7.61 \t Current Score: 28.67\n",
      "Episode 60\tAverage Score: 7.95 \t Current Score: 28.15\n",
      "Episode 61\tAverage Score: 8.27 \t Current Score: 27.24\n",
      "Episode 62\tAverage Score: 8.60 \t Current Score: 28.91\n",
      "Episode 63\tAverage Score: 8.94 \t Current Score: 30.14\n",
      "Episode 64\tAverage Score: 9.27 \t Current Score: 29.68\n",
      "Episode 65\tAverage Score: 9.61 \t Current Score: 31.90\n",
      "Episode 66\tAverage Score: 9.96 \t Current Score: 32.19\n",
      "Episode 67\tAverage Score: 10.29 \t Current Score: 32.66\n",
      "Episode 68\tAverage Score: 10.65 \t Current Score: 34.40\n",
      "Episode 69\tAverage Score: 11.02 \t Current Score: 36.09\n",
      "Episode 70\tAverage Score: 11.39 \t Current Score: 36.93\n",
      "Episode 71\tAverage Score: 11.75 \t Current Score: 37.09\n",
      "Episode 72\tAverage Score: 12.08 \t Current Score: 35.56\n",
      "Episode 73\tAverage Score: 12.42 \t Current Score: 36.61\n",
      "Episode 74\tAverage Score: 12.74 \t Current Score: 36.15\n",
      "Episode 75\tAverage Score: 13.02 \t Current Score: 33.92\n",
      "Episode 76\tAverage Score: 13.33 \t Current Score: 36.51\n",
      "Episode 77\tAverage Score: 13.63 \t Current Score: 36.55\n",
      "Episode 78\tAverage Score: 13.93 \t Current Score: 37.14\n",
      "Episode 79\tAverage Score: 14.23 \t Current Score: 37.35\n",
      "Episode 80\tAverage Score: 14.51 \t Current Score: 37.02\n",
      "Episode 81\tAverage Score: 14.79 \t Current Score: 37.15\n",
      "Episode 82\tAverage Score: 15.07 \t Current Score: 37.13\n",
      "Episode 83\tAverage Score: 15.34 \t Current Score: 37.49\n",
      "Episode 84\tAverage Score: 15.60 \t Current Score: 37.44\n",
      "Episode 85\tAverage Score: 15.86 \t Current Score: 37.77\n",
      "Episode 86\tAverage Score: 16.11 \t Current Score: 37.50\n",
      "Episode 87\tAverage Score: 16.35 \t Current Score: 36.79\n",
      "Episode 88\tAverage Score: 16.58 \t Current Score: 36.86\n",
      "Episode 89\tAverage Score: 16.82 \t Current Score: 37.68\n",
      "Episode 90\tAverage Score: 17.05 \t Current Score: 37.49\n",
      "Episode 91\tAverage Score: 17.28 \t Current Score: 37.79\n",
      "Episode 92\tAverage Score: 17.50 \t Current Score: 37.72\n",
      "Episode 93\tAverage Score: 17.70 \t Current Score: 36.42\n",
      "Episode 94\tAverage Score: 17.91 \t Current Score: 36.77\n",
      "Episode 95\tAverage Score: 18.11 \t Current Score: 37.02\n",
      "Episode 96\tAverage Score: 18.31 \t Current Score: 38.08\n",
      "Episode 97\tAverage Score: 18.50 \t Current Score: 36.26\n",
      "Episode 98\tAverage Score: 18.69 \t Current Score: 37.51\n",
      "Episode 99\tAverage Score: 18.89 \t Current Score: 37.75\n",
      "Episode 100\tAverage Score: 19.06 \t Current Score: 36.30\n",
      "Episode 101\tAverage Score: 19.43 \t Current Score: 36.93\n",
      "Episode 102\tAverage Score: 19.80 \t Current Score: 37.23\n",
      "Episode 103\tAverage Score: 20.17 \t Current Score: 37.02\n",
      "Episode 104\tAverage Score: 20.54 \t Current Score: 37.27\n",
      "Episode 105\tAverage Score: 20.90 \t Current Score: 36.26\n",
      "Episode 106\tAverage Score: 21.28 \t Current Score: 38.05\n",
      "Episode 107\tAverage Score: 21.66 \t Current Score: 38.16\n",
      "Episode 108\tAverage Score: 22.03 \t Current Score: 36.65\n",
      "Episode 109\tAverage Score: 22.38 \t Current Score: 35.28\n",
      "Episode 110\tAverage Score: 22.74 \t Current Score: 36.78\n",
      "Episode 111\tAverage Score: 23.09 \t Current Score: 34.49\n",
      "Episode 112\tAverage Score: 23.44 \t Current Score: 35.37\n",
      "Episode 113\tAverage Score: 23.80 \t Current Score: 36.56\n",
      "Episode 114\tAverage Score: 24.18 \t Current Score: 37.84\n",
      "Episode 115\tAverage Score: 24.54 \t Current Score: 36.27\n",
      "Episode 116\tAverage Score: 24.90 \t Current Score: 35.59\n",
      "Episode 117\tAverage Score: 25.25 \t Current Score: 35.61\n",
      "Episode 118\tAverage Score: 25.62 \t Current Score: 36.59\n",
      "Episode 119\tAverage Score: 25.98 \t Current Score: 36.29\n",
      "Episode 120\tAverage Score: 26.35 \t Current Score: 37.34\n",
      "Episode 121\tAverage Score: 26.71 \t Current Score: 37.17\n",
      "Episode 122\tAverage Score: 27.06 \t Current Score: 35.39\n",
      "Episode 123\tAverage Score: 27.41 \t Current Score: 36.11\n",
      "Episode 124\tAverage Score: 27.75 \t Current Score: 35.11\n",
      "Episode 125\tAverage Score: 28.08 \t Current Score: 34.42\n",
      "Episode 126\tAverage Score: 28.40 \t Current Score: 34.14\n",
      "Episode 127\tAverage Score: 28.73 \t Current Score: 35.03\n",
      "Episode 128\tAverage Score: 29.06 \t Current Score: 35.95\n",
      "Episode 129\tAverage Score: 29.38 \t Current Score: 34.90\n",
      "Episode 130\tAverage Score: 29.69 \t Current Score: 33.75\n",
      "Episode 131\tAverage Score: 30.00 \t Current Score: 35.05\n",
      "Episode 132\tAverage Score: 30.31 \t Current Score: 36.14\n",
      "\n",
      "Environment solved in 32 episodes!\tAverage Score: 30.31\n"
     ]
    }
   ],
   "source": [
    "from workspace_utils import active_session # Udacity workspace utility functions\n",
    "\n",
    "# run the training loop\n",
    "with active_session():\n",
    "    scores, avgs = ddpg(n_episodes=500, max_t=1000, start_steps = 20, learn_frequency = 20, learn_count = 10, random_seed = 1)"
   ]
  },
  {
   "cell_type": "markdown",
   "metadata": {},
   "source": [
    "Plot the scores returned during training."
   ]
  },
  {
   "cell_type": "code",
   "execution_count": 9,
   "metadata": {},
   "outputs": [
    {
     "data": {
      "image/png": "[encoded data removed]",
      "text/plain": [
       "<matplotlib.figure.Figure at 0x7fde7c19a390>"
      ]
     },
     "metadata": {
      "needs_background": "light"
     },
     "output_type": "display_data"
    }
   ],
   "source": [
    "# plot the scores\n",
    "fig = plt.figure()\n",
    "ax = fig.add_subplot(111)\n",
    "plt.plot(np.arange(len(scores)), scores, label='Score')\n",
    "plt.plot(np.arange(len(scores)), avgs, c='r', label='moving avg by last 100')\n",
    "plt.ylabel('Score')\n",
    "plt.xlabel('Episode #')\n",
    "plt.legend(loc='upper left');\n",
    "plt.show()"
   ]
  },
  {
   "cell_type": "markdown",
   "metadata": {},
   "source": [
    "Close the environment once done."
   ]
  },
  {
   "cell_type": "code",
   "execution_count": null,
   "metadata": {},
   "outputs": [],
   "source": [
    "env.close()"
   ]
  },
  {
   "cell_type": "markdown",
   "metadata": {},
   "source": [
    "### 5. Command-Line usage parser\n",
    "The following is parser for the command line interface for the DDPG solving the unity environment. \n",
    "<b>Not to be executed</b>"
   ]
  },
  {
   "cell_type": "code",
   "execution_count": null,
   "metadata": {},
   "outputs": [],
   "source": [
    "#export\n",
    "if __name__ == '__main__':\n",
    "    import argparse\n",
    "    parser = argparse.ArgumentParser()\n",
    "    parser.add_argument('--n_episodes', type=int, default=500)\n",
    "    parser.add_argument('--max_t', type=int, default=1000)\n",
    "    parser.add_argument('--start_steps', type=int, default=20)\n",
    "    parser.add_argument('--learn_frequency', type=int, default=20)\n",
    "    parser.add_argument('--learn_count', type=int, default=10)\n",
    "    parser.add_argument('--random_seed', type=int, default=1)\n",
    "    args = parser.parse_args()\n",
    "    \n",
    "    ddpg(n_episodes = args.n_episodes, max_t = args.max_t, start_steps = args.start_steps, \\\n",
    "         learn_frequency = args.learn_frequency, learn_count = args.learn_count, random_seed = args.random_seed)\n",
    "env.close() \n"
   ]
  },
  {
   "cell_type": "markdown",
   "metadata": {},
   "source": [
    "### 6. Generate script from the notebook\n",
    "Throughout this notebook you've been seeing cells marked with ```#export```. The script below picks cells that are marked and append them into python script. This is adopted from fast-ai's deep learning course practice."
   ]
  },
  {
   "cell_type": "code",
   "execution_count": 4,
   "metadata": {},
   "outputs": [
    {
     "name": "stdout",
     "output_type": "stream",
     "text": [
      "Converted Report.ipynb to nb_Report.py\r\n"
     ]
    }
   ],
   "source": [
    "!python notebook2script.py Report.ipynb"
   ]
  },
  {
   "cell_type": "markdown",
   "metadata": {},
   "source": [
    "After running the cell above, `nb_Report.py` script should have been generated in your workspace. "
   ]
  },
  {
   "cell_type": "markdown",
   "metadata": {},
   "source": [
    "### 7. Run the script from the command-line"
   ]
  },
  {
   "cell_type": "code",
   "execution_count": null,
   "metadata": {},
   "outputs": [],
   "source": [
    "!python nb_Report.py"
   ]
  },
  {
   "cell_type": "markdown",
   "metadata": {},
   "source": [
    "### 8. Conclusions and Future Work\n",
    "\n",
    "#### Summary\n",
    "\n",
    "We've just learned to control double joints in Unity Environment, yay! Our DDPG agent proved to be versalite and able to solve the environment during repeated trials. This, by itself, proves that DDPG agent is able to solve such continuous control scenarios.\n",
    "\n",
    "Moreover, we manipulated 20 agents at the same time and solved the environment. I'm sure you can see how strong DDPG algorithm is. Its ability to deal with completely continuous setting makes it valuable in real-world scenario the **robotics**. In real-world, everything is continuous, therefore DDPG is something to try on.\n",
    "\n",
    "And, as always, you are most welcome to play around with the hyperparameters to make it even more efficient.\n",
    "\n",
    "### Future work\n",
    "\n",
    "This was DDPG agent with slight hyperparameters and training modifications. There are two ways we can go from here. First of all, we could try to solve even harder environment or even better, try the algorithm with robots! While I don't have any robots that I could use, I will direct you to harder Unity enviroment, [the Crawler](https://github.com/Unity-Technologies/ml-agents/blob/master/docs/Learning-Environment-Examples.md#crawler). You are encouraged to follow their setup guide and tryout the agent we used here.\n",
    "\n",
    "Secondly, while DDPG can achieve great performance sometimes, it is frequently brittle with respect to hyperparameters and other kinds of tuning. A common failure mode for DDPG is that the learned Q-function begins to dramatically overestimate Q-values, which then leads to the policy breaking, because it exploits the errors in the Q-function. There have been numerous improvements since 2015 when DDPG was first introduced. I encourage you to check out [(TD3)Twin Delayed DDPG](https://arxiv.org/abs/1802.09477) and [(D4PG) Distributed Distributional Deterministic Policy Gradients](https://arxiv.org/abs/1804.08617).\n"
   ]
  }
 ],
 "metadata": {
  "kernelspec": {
   "display_name": "Python 3",
   "language": "python",
   "name": "python3"
  },
  "language_info": {
   "codemirror_mode": {
    "name": "ipython",
    "version": 3
   },
   "file_extension": ".py",
   "mimetype": "text/x-python",
   "name": "python",
   "nbconvert_exporter": "python",
   "pygments_lexer": "ipython3",
   "version": "3.6.3"
  }
 },
 "nbformat": 4,
 "nbformat_minor": 2
}
